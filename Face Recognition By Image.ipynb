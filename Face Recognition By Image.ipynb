{
 "cells": [
  {
   "cell_type": "code",
   "execution_count": null,
   "metadata": {},
   "outputs": [],
   "source": [
    "import joblib\n",
    "import os\n",
    "import numpy as np\n",
    "import cv2\n",
    "\n",
    "#model = joblib.load('SVM-Face_Recognition.sav')\n",
    "model = joblib.load('SVM-FaceTest.sav')\n",
    "\n",
    "#Dictionary since the result of the model.predict would be numerical starting from 0\n",
    "#Modify here\n",
    "category_dict = {0 : \"First Person\", 1 : \"Second Person\"}\n",
    "test_path = \"test_data2\"\n",
    "test_images = os.listdir(test_path)\n",
    "\n",
    "print(test_images)"
   ]
  },
  {
   "cell_type": "code",
   "execution_count": null,
   "metadata": {},
   "outputs": [],
   "source": [
    "faceClassifier = cv2.CascadeClassifier('haarcascade_frontalface_default.xml')\n",
    "\n",
    "for image in test_images:\n",
    "    img_path = os.path.join(test_path, image)\n",
    "    #The following if statement is only needed in case your windows auto generates a hidden Thumbs.db file\n",
    "    #I had issues with that but a simple if fixed the problem\n",
    "    if img_path == 'test_data2\\\\Thumbs.db':\n",
    "        continue\n",
    "    image = cv2.imread(img_path)\n",
    "    gray = cv2.cvtColor(image, cv2.COLOR_BGR2GRAY)\n",
    "    face = faceClassifier.detectMultiScale(gray)\n",
    "    \n",
    "    for x,y,w,h in face:\n",
    "        cropped_face = gray[y : y+h, x: x+w]\n",
    "        cropped_face = cv2.resize(cropped_face, (50, 50))\n",
    "        cropped_face = cropped_face.reshape(1, 2500)\n",
    "        result = model.predict(cropped_face)[0]\n",
    "        name = category_dict[result]\n",
    "        \n",
    "        cv2.rectangle(image, (x, y), (x+w, y+h), (0, 255, 0), 2)\n",
    "        cv2.putText(image, name, (x, y-10), cv2.FONT_HERSHEY_SIMPLEX, 1.5, (0, 255, 0), 2)\n",
    "    cv2.imshow('Live', image)\n",
    "    k = cv2.waitKey(1000)\n",
    "    if k == 27:\n",
    "        break\n",
    "cv2.destroyAllWindows()        "
   ]
  },
  {
   "cell_type": "code",
   "execution_count": null,
   "metadata": {},
   "outputs": [],
   "source": []
  }
 ],
 "metadata": {
  "kernelspec": {
   "display_name": "Python 3",
   "language": "python",
   "name": "python3"
  },
  "language_info": {
   "codemirror_mode": {
    "name": "ipython",
    "version": 3
   },
   "file_extension": ".py",
   "mimetype": "text/x-python",
   "name": "python",
   "nbconvert_exporter": "python",
   "pygments_lexer": "ipython3",
   "version": "3.6.5"
  }
 },
 "nbformat": 4,
 "nbformat_minor": 2
}
