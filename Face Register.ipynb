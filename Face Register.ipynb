{
 "cells": [
  {
   "cell_type": "code",
   "execution_count": 12,
   "metadata": {},
   "outputs": [],
   "source": [
    "import os\n",
    "import numpy as np\n",
    "import cv2\n",
    "\n",
    "data_path = \"train_data\"\n",
    "labels = os.listdir(data_path)\n",
    "categories = np.arange(len(labels))\n",
    "category_dict = dict(zip(labels, categories))"
   ]
  },
  {
   "cell_type": "code",
   "execution_count": 13,
   "metadata": {},
   "outputs": [
    {
     "name": "stdout",
     "output_type": "stream",
     "text": [
      "Data is saved\n"
     ]
    }
   ],
   "source": [
    "person_path = os.path.join(data_path, 'Fabio')\n",
    "face_cascade = cv2.CascadeClassifier('haarcascade_frontalface_default.xml')\n",
    "\n",
    "webcam = cv2.VideoCapture(1)\n",
    "count = 1\n",
    "width, height = (50, 50)\n",
    "\n",
    "while count <= 100:\n",
    "    ret, img = webcam.read()\n",
    "    cv2.imwrite('% s/% s.png' % (person_path, count), img)\n",
    "    cv2.imshow(\"Image\", img)\n",
    "    key = cv2.waitKey(10)\n",
    "    if key == 27:\n",
    "        break\n",
    "    count += 1    \n",
    "        \n",
    "cv2.destroyAllWindows()\n",
    "webcam.release()\n",
    "print('Data is saved')"
   ]
  },
  {
   "cell_type": "code",
   "execution_count": null,
   "metadata": {},
   "outputs": [],
   "source": []
  }
 ],
 "metadata": {
  "kernelspec": {
   "display_name": "Python 3",
   "language": "python",
   "name": "python3"
  },
  "language_info": {
   "codemirror_mode": {
    "name": "ipython",
    "version": 3
   },
   "file_extension": ".py",
   "mimetype": "text/x-python",
   "name": "python",
   "nbconvert_exporter": "python",
   "pygments_lexer": "ipython3",
   "version": "3.6.5"
  }
 },
 "nbformat": 4,
 "nbformat_minor": 2
}
